{
 "cells": [
  {
   "cell_type": "markdown",
   "metadata": {},
   "source": [
    "# Technology "
   ]
  },
  {
   "cell_type": "code",
   "execution_count": 24,
   "metadata": {},
   "outputs": [],
   "source": [
    "def top_companies():\n",
    "    import yfinance as yf\n",
    "\n",
    "    # Technology\n",
    "    tech = yf.Sector('technology')\n",
    "    top_tech_companies = tech.top_companies.reset_index()\n",
    "\n",
    "    return top_tech_companies"
   ]
  }
 ],
 "metadata": {
  "kernelspec": {
   "display_name": "stockapp_env",
   "language": "python",
   "name": "python3"
  },
  "language_info": {
   "codemirror_mode": {
    "name": "ipython",
    "version": 3
   },
   "file_extension": ".py",
   "mimetype": "text/x-python",
   "name": "python",
   "nbconvert_exporter": "python",
   "pygments_lexer": "ipython3",
   "version": "3.11.10"
  }
 },
 "nbformat": 4,
 "nbformat_minor": 2
}
